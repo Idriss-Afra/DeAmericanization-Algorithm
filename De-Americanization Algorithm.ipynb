{
 "cells": [
  {
   "cell_type": "markdown",
   "metadata": {
    "id": "Z8xcGL2A2EJB"
   },
   "source": [
    "# De-Americanization Algorithm\n",
    "------------------\n",
    "> **Idriss Afra**\n",
    "\n",
    "This project aims to construct the dividends and forwards curves for American stocks and indices."
   ]
  },
  {
   "cell_type": "markdown",
   "metadata": {
    "id": "PIqzdGFb3JKM"
   },
   "source": [
    "## US Stock & Index Options Market\n",
    "Market listed options on US stocks and indices are usually Americans. In fact, they can be exercised at any business day before maturity.\n",
    "<br> Since the call-put parity is not valid for American options, practitioners cannot use this latter to imply forwards and dividends curves. For this reason, many de-Americanization algorithms have been developed to solve this limitation, and the simplest and the widly used one is the following :\n",
    "\n",
    "Init :\n",
    "- $n_{max}$, the maximum number of iterations\n",
    "-   $F_0 = F(d_0)$, $d_0$ an initial dividend value guess and $F_0$ the initial forward value guess\n",
    "- $K$, the strike of market call and put American options with the highest trading volume\n",
    "\n",
    "While $n < n_{max}$ :\n",
    "- Compute the implied American volatilities : $σ_{c}^{Amr}(K, F(d_k))$, $σ_{p}^{Amr}(K, F(d_k))$ \\\\\n",
    "- Compute the equivalent European prices : $C_{Eur}(K, σ_{c}^{Amr}(K, F(d_k)))$, $P_{Eur}(K, σ_{p}^{Amr}(K, F(d_k)))$\n",
    "- Compute the forward using the call-put parity :\n",
    "$$F_{k+1} = e^{rT} \\left(C_{Eur}(K, σ_{c}^{Amr}(K, F(d_k))) - P_{Eur}(K, σ_{p}^{Amr}(K, F(d_k)))\\right) + K  \\\\ $$\n",
    "\n",
    "- Imply the associated dividend yield : $d_{k+1} = ln\\left(\\frac{Spot × e^{rT}}{F_{k+1}}\\right) \\div T$\n",
    "- If :  $|F(d_k+1) - F(d_{k})| > ϵ$, Continue. Else : Break.\n",
    "\n",
    "In this project, we use the Binomial model to imply American volatilities and price equivalent European options."
   ]
  },
  {
   "cell_type": "markdown",
   "metadata": {
    "id": "vOxqDBJB2_p_"
   },
   "source": [
    "## The Binomial Model\n",
    "\n",
    "Let's define the factors $u$ and $d$ as following :\n",
    "$$\n",
    "u = e^{\\sigma\\sqrt{\\Delta t}}\\qquad d = e^{-\\sigma\\sqrt{\\Delta t}} \\\\\n",
    "$$\n",
    "Where $\\sigma$ is the volatility. The risk-neutral probability under this model is :    \n",
    "$$\n",
    "p = \\frac{e^{(r-q)\\Delta t}-d}{u-d} \\\\\n",
    "$$\n",
    "So that :\n",
    "$$\n",
    "E(S_{t+\\Delta t}) = p × u × S_t + (1 - p) × d × S_t  \n",
    "= p × S_{t+\\Delta t}^u + (1 - p) × S_{t+\\Delta t}^d \\\\\n",
    "$$\n",
    "\n",
    "Where $r$ is the zero-coupon interest rate and $q$ the dividend yield.\n",
    "\n",
    "The options are then priced using a backward mehod :\n",
    "\n",
    "* European Style :  \n",
    "$$\n",
    "V_t(S_t) = e^{-r\\Delta t}\\left(p\\times V_{t+\\Delta t}(S_{t+\\Delta t}^u)+(1-p)\\times V_{t+\\Delta t}(S_{t+\\Delta t}^d)\\right)\n",
    "$$\n",
    "\n",
    "* American Style :    \n",
    "$$\n",
    "V_t(S_t) = max\\left(S_t - K, e^{-r\\Delta t}\\left(p\\times V_{t+\\Delta t}(S_{t+\\Delta t}^u)+(1-p)\\times V_{t+\\Delta t}(S_{t+\\Delta t}^d)\\right)\\right) \\\\\n",
    "$$\n",
    "\n",
    "With the $PayOff_T$ as final condition : $ V_T(S) = PayOff_T =Max\\left((1_{Is Call} - 1_{Is Put}) × (S - K), 0 \\right) $"
   ]
  },
  {
   "cell_type": "code",
   "execution_count": 1,
   "metadata": {
    "colab": {
     "base_uri": "https://localhost:8080/"
    },
    "id": "-V86VN4_9hm1",
    "outputId": "af56e500-7ca7-4b48-95ee-73c991ca8729"
   },
   "outputs": [
    {
     "data": {
      "text/plain": [
       "array([[100.        , 112.24009024, 125.97837858, 141.39824581],\n",
       "       [  0.        ,  89.09472523, 100.        , 112.24009024],\n",
       "       [  0.        ,   0.        ,  79.37870064,  89.09472523],\n",
       "       [  0.        ,   0.        ,   0.        ,  70.72223522]])"
      ]
     },
     "execution_count": 1,
     "metadata": {},
     "output_type": "execute_result"
    }
   ],
   "source": [
    "import numpy as np\n",
    "import math\n",
    "\n",
    "def spot_simulation(S0, r, sigma, T, n_steps):\n",
    "  \"\"\"\n",
    "  The spot simulation under the Binomial model.\n",
    "  The function returns the Binomial tree.\n",
    "  \"\"\"\n",
    "  dt = T / n_steps\n",
    "  u = math.exp(sigma * math.sqrt(dt))\n",
    "  d = 1. / u\n",
    "\n",
    "  s = np.zeros((n_steps+1, n_steps+1))\n",
    "  s[0,0] = S0\n",
    "  for i in range(1, n_steps+1) :\n",
    "    s[:i,i] = s[:i,i-1] * u\n",
    "    s[i,i] = s[i-1,i-1] * d\n",
    "\n",
    "  return s\n",
    "\n",
    "# Test\n",
    "spot_simulation(100, 0.03, 0.2, 1, 3)"
   ]
  },
  {
   "cell_type": "code",
   "execution_count": 2,
   "metadata": {
    "colab": {
     "base_uri": "https://localhost:8080/"
    },
    "id": "6_qfwbbNK2hS",
    "outputId": "991e96f2-0fe7-419c-fe16-341c01b0cb68"
   },
   "outputs": [
    {
     "name": "stdout",
     "output_type": "stream",
     "text": [
      "Example of a Put option on stock with dividends :\n",
      "-------------------------------------------------\n",
      "American Put price 5.1462\n",
      "European Put price 5.0191\n"
     ]
    }
   ],
   "source": [
    "def tree_price(flavor, K, T, S0, r, sigma, q, amer=True, n_steps=750):\n",
    "  \"\"\"\n",
    "  The Binomial model.\n",
    "  The function returns the Binomial price.\n",
    "  \"\"\"\n",
    "  # Spot simulation\n",
    "  dt = T / n_steps\n",
    "  u = math.exp(sigma * math.sqrt(dt))\n",
    "  d = 1. / u\n",
    "  p = (math.exp((r - q) * dt) - d) / (u - d)\n",
    "  s = np.zeros((n_steps+1, n_steps+1))\n",
    "  s[0,0] = S0\n",
    "  for i in range(1, n_steps+1) :\n",
    "    s[:i,i] = s[:i,i-1] * u\n",
    "    s[i,i] = s[i-1,i-1] * d\n",
    "\n",
    "  # Option payoff\n",
    "  phi = 1 if flavor.upper() == \"CALL\" else -1\n",
    "  v = np.maximum(phi * (s[:, n_steps] - K), 0.) # payoff at final date T\n",
    "\n",
    "  # Discount between 2 time steps\n",
    "  discount = math.exp(-r * dt)\n",
    "\n",
    "\t# Backward loop\n",
    "  for i in range(n_steps-1, -1, -1) : # => i = n_steps-1 ... 0\n",
    "    n_nodes = i+1 # i+1 nodes at time step #i\n",
    "    v = discount * ( p * v[:n_nodes] + (1-p) * v[1:n_nodes+1] )\n",
    "    if amer :\n",
    "      v = np.maximum(phi * (s[:n_nodes, i] - K), v)\n",
    "\n",
    "  return v[0]\n",
    "\n",
    "# Test\n",
    "print(\"Example of a Put option on stock with dividends :\")\n",
    "print(\"-------------------------------------------------\")\n",
    "print(\"American Put price\", round(tree_price(\"Put\", 100, 1, 105, 0.03, 0.2, 0.01), 4))\n",
    "print(\"European Put price\", round(tree_price(\"Put\", 100, 1, 105, 0.03, 0.2, 0.01, False), 4))"
   ]
  },
  {
   "cell_type": "markdown",
   "metadata": {
    "id": "oZ42zql2Jly0"
   },
   "source": [
    "## Implied American Volatilities\n",
    "\n",
    "The first step of the above de-Americanization algorithm is the calibration of American volatilities using market listed call and put options with the highest trading volume. In this part, we use the Bisection method."
   ]
  },
  {
   "cell_type": "code",
   "execution_count": 3,
   "metadata": {
    "colab": {
     "base_uri": "https://localhost:8080/"
    },
    "id": "GxTj4qAawmgj",
    "outputId": "b47e1cd9-7607-4cdb-8600-8f73cc45a88a"
   },
   "outputs": [
    {
     "name": "stdout",
     "output_type": "stream",
     "text": [
      "20.0%\n"
     ]
    }
   ],
   "source": [
    "import sys\n",
    "\n",
    "def amer_implied_vol(S0, r, T, K, flavor, q, market_price) :\n",
    "  \"\"\"\n",
    "  Bisection algorithm on the Binomial model.\n",
    "  The function returns the implied American vol.\n",
    "  \"\"\"\n",
    "  sigma_min = 0.001\n",
    "  sigma_max = 10\n",
    "  n_max = 750\n",
    "  eps = 1e-5\n",
    "\n",
    "  n = 1\n",
    "  while n <= n_max :\n",
    "    sigma = (sigma_min + sigma_max)  / 2\n",
    "    f_sigma = tree_price(flavor, K, T, S0, r, sigma, q) - market_price\n",
    "    if (f_sigma == 0) or (sigma_max - sigma_min < eps) :\n",
    "      return sigma\n",
    "    if f_sigma < 0 :\n",
    "      sigma_min = sigma\n",
    "    else :\n",
    "      sigma_max = sigma\n",
    "    n += 1\n",
    "\n",
    "  return sys.exit(\"The American volatility calibration algorithm failed to converge. Please review data of the \" + flavor.upper() + \" with Strike \" + str(K))\n",
    "\n",
    "# Test\n",
    "print(str(100 * round(amer_implied_vol(100, 0.03, 1, 105, \"Call\", 0.01, 6.64), 4)) + \"%\")"
   ]
  },
  {
   "cell_type": "markdown",
   "metadata": {
    "id": "Piot1tSoQyI5"
   },
   "source": [
    "## De-Americanization Algorithm"
   ]
  },
  {
   "cell_type": "code",
   "execution_count": 4,
   "metadata": {
    "id": "A0gZ9K3IwarR"
   },
   "outputs": [],
   "source": [
    "def de_Americanization(T, S0, r, q_init, K, flavors, amer_prices) :\n",
    "  \"\"\"\n",
    "  The de-Americanization algorithm function :\n",
    "    1- Call the amer_implied_vol function to calibrate volatilities of the American call and put options with the highest trading volume (American Binomial model)\n",
    "    2- Use these volatilities to re-price the equivalent European call and put prices (European Binomial model)\n",
    "    3- Imply the forward using the call-put parity\n",
    "    4- Re-do the 1st, 2nd, and 3rd steps until the convergence of the implied forward\n",
    "  \"\"\"\n",
    "  n_max = 750\n",
    "  eps = 1e-3\n",
    "\n",
    "  if flavors[0].upper() == \"CALL\" :\n",
    "    sigma_call = amer_implied_vol(S0, r, T, K, flavors[0], q_init, amer_prices[0])\n",
    "    sigma_put = amer_implied_vol(S0, r, T, K, flavors[1], q_init, amer_prices[1])\n",
    "  else :\n",
    "    sigma_call = amer_implied_vol(S0, r, T, K, flavors[1], q_init, amer_prices[1])\n",
    "    sigma_put = amer_implied_vol(S0, r, T, K, flavors[0], q_init, amer_prices[0])\n",
    "\n",
    "  eur_price_call = tree_price(\"Call\", K, T, S0, r, sigma_call, q_init, False)\n",
    "  eur_price_put = tree_price(\"Put\", K, T, S0, r, sigma_put, q_init, False)\n",
    "\n",
    "  F = math.exp(r * T) * (eur_price_call - eur_price_put) + K\n",
    "  q = math.log(S0 / F) / T + r\n",
    "  nb_iteration = 1\n",
    "\n",
    "  print(\"-----------------------------------------------------\")\n",
    "  print(\"Step : \", nb_iteration)\n",
    "  print(\"Implied Forward : \", round(F, 4))\n",
    "  print(\"Implied Dividend Yield : \" + str(round(100 * q, 4)) + \"%\")\n",
    "\n",
    "\n",
    "  while nb_iteration < n_max :\n",
    "    if flavors[0].upper() == \"CALL\" :\n",
    "      sigma_call = amer_implied_vol(S0, r, T, K, flavors[0], q, amer_prices[0])\n",
    "      sigma_put = amer_implied_vol(S0, r, T, K, flavors[1], q, amer_prices[1])\n",
    "    else :\n",
    "      sigma_call = amer_implied_vol(S0, r, T, K, flavors[1], q, amer_prices[1])\n",
    "      sigma_put = amer_implied_vol(S0, r, T, K, flavors[0], q, amer_prices[0])\n",
    "\n",
    "    print(\"Market American Call Price : \", round(amer_prices[0], 4))\n",
    "    print(\"Binomial American Call Price : \", round(tree_price(flavors[0], K, T, S0, r, sigma_call, q), 4))\n",
    "    print(\"Implied American Call Vol : \" + str(round(100 * sigma_call, 4)) + \"%\")\n",
    "    print(\"Market American Put Price : \", round(amer_prices[1], 4))\n",
    "    print(\"Binomial American Put Price : \", round(tree_price(flavors[1], K, T, S0, r, sigma_put, q), 4))\n",
    "    print(\"Implied American Put Vol : \" + str(round(100 * sigma_put, 4)) + \"%\")\n",
    "\n",
    "    eur_price_call = tree_price(\"Call\", K, T, S0, r, sigma_call, q, False)\n",
    "    eur_price_put = tree_price(\"Put\", K, T, S0, r, sigma_put, q, False)\n",
    "\n",
    "    print(\"Equivalent Binomial European Call Price : \", round(eur_price_call, 4))\n",
    "    print(\"Equivalent Binomial European Put Price : \", round(eur_price_put, 4))\n",
    "\n",
    "    old_F = F\n",
    "    F = math.exp(r * T) * (eur_price_call - eur_price_put) + K\n",
    "    q = math.log(S0 / F) / T + r\n",
    "\n",
    "    if abs(F - old_F) < eps :\n",
    "      return F\n",
    "\n",
    "    nb_iteration += 1\n",
    "\n",
    "    print(\"-----------------------------------------------------\")\n",
    "    print(\"Step : \", nb_iteration)\n",
    "    print(\"Implied Forward : \", round(F, 4))\n",
    "    print(\"Implied Dividend Yield: \" + str(round(100 * q, 4)) + \"%\")\n",
    "\n",
    "  return sys.exit(\"The Dividends calibration algorithm failed to converge. Please review the inputs\")\n"
   ]
  },
  {
   "cell_type": "markdown",
   "metadata": {
    "id": "UrWYr7AtbthZ"
   },
   "source": [
    "## Application : AAPL US Equity\n",
    "\n",
    "Let us apply the above de-Americanization algorithm on the Apple US stock options : AAPL US. \\\\\n",
    "Since several options with different strikes are generally quoted on each market tenor, we will naturally choose the strike with the highest trading volume on each tenor and use these latter in the de-Americanization algorithm."
   ]
  },
  {
   "cell_type": "code",
   "execution_count": 5,
   "metadata": {
    "colab": {
     "base_uri": "https://localhost:8080/"
    },
    "id": "eRvung_wFw6-",
    "outputId": "c41ec892-9122-43ca-b7c1-04e5f5c52df6"
   },
   "outputs": [
    {
     "name": "stdout",
     "output_type": "stream",
     "text": [
      "Dividend Yield Initial Guess : 0.01%\n",
      "-----------------------------------------------------\n",
      "Step :  1\n",
      "Implied Forward :  181.1041\n",
      "Implied Dividend Yield : 0.2387%\n",
      "Market American Call Price :  7.625\n",
      "Binomial American Call Price :  7.625\n",
      "Implied American Call Vol : 22.2912%\n",
      "Market American Put Price :  11.975\n",
      "Binomial American Put Price :  11.975\n",
      "Implied American Put Vol : 22.3437%\n",
      "Equivalent Binomial European Call Price :  7.625\n",
      "Equivalent Binomial European Put Price :  11.469\n",
      "-----------------------------------------------------\n",
      "Step :  2\n",
      "Implied Forward :  181.082\n",
      "Implied Dividend Yield: 0.2737%\n",
      "Market American Call Price :  7.625\n",
      "Binomial American Call Price :  7.6248\n",
      "Implied American Call Vol : 22.3151%\n",
      "Market American Put Price :  11.975\n",
      "Binomial American Put Price :  11.9751\n",
      "Implied American Put Vol : 22.3236%\n",
      "Equivalent Binomial European Call Price :  7.6248\n",
      "Equivalent Binomial European Put Price :  11.4723\n",
      "-----------------------------------------------------\n",
      "Step :  3\n",
      "Implied Forward :  181.0784\n",
      "Implied Dividend Yield: 0.2795%\n",
      "Market American Call Price :  7.625\n",
      "Binomial American Call Price :  7.6252\n",
      "Implied American Call Vol : 22.3198%\n",
      "Market American Put Price :  11.975\n",
      "Binomial American Put Price :  11.9749\n",
      "Implied American Put Vol : 22.3198%\n",
      "Equivalent Binomial European Call Price :  7.6252\n",
      "Equivalent Binomial European Put Price :  11.4727\n",
      "-----------------------------------------------------\n",
      "Implied Fwd :  181.0784\n",
      "Implied Dividend Yield : 0.2795%\n",
      "Implied Cash Dividend :  0.1762\n"
     ]
    }
   ],
   "source": [
    "from datetime import date\n",
    "import matplotlib.pyplot as plt\n",
    "\n",
    "now_date = date(2023, 8, 10)\n",
    "S0 = 177.83\n",
    "r = 5.482 / 100\n",
    "\n",
    "tenor = date(2023, 12, 15)\n",
    "T = (tenor - now_date).days / 365\n",
    "strikes = [165, 170, 175, 180, 185, 190, 200]\n",
    "amer_prices = [4.425, 5.75, 7.425, 10.125, 7.625, 5.5250, 2.66]\n",
    "flavors = [\"Put\"] * 3 + [\"Call\"] * 4\n",
    "\n",
    "# The highest trading volume strike asof 8 Aug 2023 is 185. Its associated call option close price is 7.625 and its put option close price is 11.975\n",
    "q_init = 0.0001\n",
    "print(\"Dividend Yield Initial Guess : \" + str(round(100 * q_init, 4)) + \"%\")\n",
    "fwd = de_Americanization(T, S0, r, q_init, 185, [\"Call\", \"Put\"], [7.625, 11.975])\n",
    "div_yield = math.log(S0 / fwd) / T + r\n",
    "div_cash = S0 * math.exp(r * T) - fwd\n",
    "\n",
    "print(\"-----------------------------------------------------\")\n",
    "print(\"Implied Fwd : \", round(fwd, 4))\n",
    "print(\"Implied Dividend Yield : \" + str(round(100 * div_yield, 4)) + \"%\")\n",
    "print(\"Implied Cash Dividend : \", round(div_cash, 4))"
   ]
  },
  {
   "cell_type": "markdown",
   "metadata": {
    "id": "ky1f7LIiFK5B"
   },
   "source": [
    "## Dividend Seasonality : Interpolation & Extrapolation\n",
    "\n",
    "US companies tend to pay cash dividends during each quarter. They exhibit a strong seasonality in their dividends. \\\\\n",
    "Therefore, practitioners forcast future dividend payment dates by simply keeping the same historical payment days and months for the next years. A new \"seasoned\" dividends curve is then bootstrapped as the following : \\\\\n",
    "\n",
    "Under the Non-Arbitrage assumption : $F_T = S_t × e^{r (T-t)} - ∑_{k ∈ [1,n]}d_k × e^{r(T-T_k)}$ \\\\\n",
    "\n",
    "Therefore :  $d_n = e^{-r(T-T_n)} × \\left( S_t × e^{r (T-t)} - ∑_{k ∈ [1,n-1]}d_k × e^{r(T-T_k)} - F_T \\right)$ \\\\\n",
    "\n",
    "And finally : $d_n = S_t × e^{r (T_n-t)} - ∑_{k ∈ [1,n-1]}d_k × e^{r(T_n-T_k)} - F_T × e^{-r(T-T_n)}$ \\\\\n",
    "\n",
    "\n",
    "Where  :\n",
    "\n",
    "* $S_t$ the spot price at $t$\n",
    "* $r$ the zero-coupon rate\n",
    "* $F_T$ the calibrated forward of the market option tenor $T$ by the de-Americanization algorithm\n",
    "* $d_k$ the $k^{th}$ cash dividend to be paid at $T_k$\n",
    "\n",
    "<br>On the other side, practitioners usually assume continious dividend yield curve for US Indices. The simplest way to construct such curve is to suppose a piecewise constant curve between market options tenors :\n",
    "\n",
    "Under the Non-Arbitrage assumption : $F_T = S_t × e^{r (T-t) - ∑_{k ∈ [1,n]}q_k × (T_k-T_{k-1})}$ \\\\\n",
    "\n",
    "Therefore : $q_n = ln\\left( S_t × e^{r (T-t) - ∑_{k ∈ [1,n-1]}q_k × (T_k-T_{k-1})} / F_T \\right) / \\left( T_n - T_{n-1}\\right)$ \\\\\n",
    "\n",
    "\n",
    "Where  :\n",
    "\n",
    "* $S_t$ the spot price at $t$\n",
    "* $r$ the zero-coupon rate\n",
    "* $F_T$ the calibrated forward of the market option tenor $T$ by the de-Americanization algorithm\n",
    "* $q_k$ the $k^{th}$ continious yield dividend between $T_{k-1}$ and $T_{k}$\n",
    "\n",
    "<br> Cash and yield dividends can then be flat extrapolated after the last market option tenor."
   ]
  },
  {
   "cell_type": "markdown",
   "metadata": {
    "id": "V5vK3sFdb6qM"
   },
   "source": [
    "## Implied European Volatilities\n",
    "\n",
    "Once the forwards and dividends curves calibrated, we need to compute implied European volatilies in order to price European derivatives on an US underlying stock. To do so, we assume the equivalent European Binomial prices to be market prices and use these latter to imply European volatilities under the Black-Scholes standard market model :\n",
    "\n",
    "Init :\n",
    "- $F = F(d)$, $d$ and $F$ are the calibrated dividend yield and forward price by the above de-Americanization algorithm\n",
    "- $Strikes$, the quoted strikes of OTM American call and put options on a given market tenor $T$\n",
    "\n",
    "For $K$ in $Strikes$ :\n",
    "- Compute the implied American Binomial volatility : $σ_{Amr}(K, F(d))$\n",
    "- Compute the equivalent European Binomial price : $Binomial_{EUR}(K, σ_{Amr}(K, F(d)))$\n",
    "- Calibrate the Implied European Volatilities $\\sigma_{Imp}(K,T)$ such that :\n",
    "\n",
    "$$\n",
    "BS(F(d), K, \\sigma_{Imp}(K,T), T) - Binomial_{EUR}(K, σ_{Amer}(K, F(d))) = 0  $$\n",
    "\n",
    "The $\\sigma_{Imp}(K,T)$ calibration is done via the Newton-Raphson method.\n",
    "\n"
   ]
  },
  {
   "cell_type": "code",
   "execution_count": 6,
   "metadata": {
    "id": "AWMGfXCERRhF"
   },
   "outputs": [],
   "source": [
    "from scipy.stats import norm\n",
    "\n",
    "def black_scholes(flavor, K, T, S, r, vol, q=0) :\n",
    "  \"\"\"\n",
    "  The Black-Scholes price.\n",
    "  \"\"\"\n",
    "  v2T = vol**2 * T\n",
    "  d1 = (np.log(S/K) + (r - q) * T + v2T / 2) / v2T**0.5\n",
    "  d2 = d1 - v2T**0.5\n",
    "  phi = 1 if flavor.upper() == \"CALL\" else  -1\n",
    "  return phi * (S * math.exp(-q * T) * norm.cdf(phi * d1) - K * math.exp(-r * T) * norm.cdf(phi * d2))\n",
    "\n",
    "def vega_bs(K, T, S, r, vol, q=0) :\n",
    "  \"\"\"\n",
    "  The Black-Scholes Vega greek : The derivative of the option value with respect to the volatility of the underlying asset.\n",
    "  \"\"\"\n",
    "  v2T = vol**2 * T\n",
    "  d2 = (math.log(S/K) + (r - q) * T - v2T / 2) / v2T**0.5\n",
    "  return K * math.exp(-r * T) * norm.pdf(d2) * T**0.5\n",
    "\n",
    "def newton_raphson(market_price, init_vol, flavor, K, T, S, r, q=0):\n",
    "  \"\"\"\n",
    "  The Newton-Raphson algorithm : Implied volatilities from market prices\n",
    "  \"\"\"\n",
    "  eps = 1e-07\n",
    "  vol = init_vol\n",
    "  func = black_scholes(flavor, K, T, S, r, vol, q) - market_price\n",
    "  func_deriv = vega_bs(K, T, S, r, vol, q)\n",
    "  error = sys.exit(\"The European volatility calibration algorithm failed to converge. Please review the \" + flavor.upper() + \" of Strike \" + str(K)) if func_deriv < 0.0001 else \"No error.\"\n",
    "  next_vol = vol - func / func_deriv\n",
    "  error = sys.exit(\"The European volatility calibration algorithm failed to converge. Please review the \" + flavor.upper() + \" of Strike \" + str(K)) if next_vol < 0.0001 else \"No error.\"\n",
    "\n",
    "  nb_iteration = 1\n",
    "  while abs(next_vol - vol) > eps :\n",
    "    vol = next_vol\n",
    "    func = black_scholes(flavor, K, T, S, r, vol, q) - market_price\n",
    "    func_deriv = vega_bs(K, T, S, r, vol, q)\n",
    "    error = sys.exit(\"The European volatility calibration algorithm failed to converge. Please review the \" + flavor.upper() + \" of Strike \" + str(K)) if func_deriv < 0.0001 else \"No error.\"\n",
    "    next_vol = vol - func / func_deriv\n",
    "    error = sys.exit(\"The European volatility calibration algorithm failed to converge. Please review the \" + flavor.upper() + \" of Strike \" + str(K)) if next_vol < 0.0001 else \"No error.\"\n",
    "    nb_iteration += 1\n",
    "    error = sys.exit(\"The European volatility calibration algorithm failed to converge. Please review the \" + flavor.upper() + \" of Strike \" + str(K)) if nb_iteration > 300 else \"No error.\"\n",
    "\n",
    "  return next_vol"
   ]
  },
  {
   "cell_type": "code",
   "execution_count": 7,
   "metadata": {
    "id": "2l7kwdX1qbBs"
   },
   "outputs": [],
   "source": [
    "def euro_equivalent_vol(T, S0, r, q, K, flavor, amer_price) :\n",
    "    \"\"\"\n",
    "    This function calibrates the implied European volatility of a given strike K and tenor T\n",
    "    \"\"\"\n",
    "    amr_vol = amer_implied_vol(S0, r, T, K, flavor, q, amer_price)\n",
    "    eur_price = tree_price(flavor, K, T, S0, r, amr_vol, q, False)\n",
    "    return newton_raphson(eur_price, amr_vol, flavor, K, T, S0, r, q)"
   ]
  },
  {
   "cell_type": "markdown",
   "metadata": {
    "id": "lfaerr7D8SDA"
   },
   "source": [
    "Let us get back our example of AAPL US stock options and calibrate its equivalent implied European volatilities :"
   ]
  },
  {
   "cell_type": "code",
   "execution_count": 8,
   "metadata": {
    "colab": {
     "base_uri": "https://localhost:8080/",
     "height": 472
    },
    "id": "U578ZWoF5kWr",
    "outputId": "11261254-8edb-4e5c-81aa-40ebc7e9655e"
   },
   "outputs": [
    {
     "data": {
      "image/png": "[encoded data removed]",
      "text/plain": [
       "<Figure size 432x288 with 1 Axes>"
      ]
     },
     "metadata": {
      "needs_background": "light"
     },
     "output_type": "display_data"
    }
   ],
   "source": [
    "eur_vol = []\n",
    "\n",
    "for i in range(len(strikes)) :\n",
    "  eur_vol.append(euro_equivalent_vol(T, S0, r, div_yield, strikes[i], flavors[i], amer_prices[i]))\n",
    "\n",
    "plt.ylabel(\"Volatilities\")\n",
    "plt.xlabel(\"Moneyness\")\n",
    "plt.title(\"Implied European Volatilities\")\n",
    "plt.scatter(np.array(strikes) / S0, eur_vol, label=\"European Volatilities\")\n",
    "plt.legend(loc=\"lower left\")\n",
    "plt.show()"
   ]
  }
 ],
 "metadata": {
  "colab": {
   "provenance": []
  },
  "kernelspec": {
   "display_name": "Python 3 (ipykernel)",
   "language": "python",
   "name": "python3"
  },
  "language_info": {
   "codemirror_mode": {
    "name": "ipython",
    "version": 3
   },
   "file_extension": ".py",
   "mimetype": "text/x-python",
   "name": "python",
   "nbconvert_exporter": "python",
   "pygments_lexer": "ipython3",
   "version": "3.9.12"
  }
 },
 "nbformat": 4,
 "nbformat_minor": 1
}
